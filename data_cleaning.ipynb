{
 "cells": [
  {
   "cell_type": "code",
   "execution_count": 1,
   "id": "fb3586e9",
   "metadata": {},
   "outputs": [
    {
     "data": {
      "text/html": [
       "<div>\n",
       "<style scoped>\n",
       "    .dataframe tbody tr th:only-of-type {\n",
       "        vertical-align: middle;\n",
       "    }\n",
       "\n",
       "    .dataframe tbody tr th {\n",
       "        vertical-align: top;\n",
       "    }\n",
       "\n",
       "    .dataframe thead th {\n",
       "        text-align: right;\n",
       "    }\n",
       "</style>\n",
       "<table border=\"1\" class=\"dataframe\">\n",
       "  <thead>\n",
       "    <tr style=\"text-align: right;\">\n",
       "      <th></th>\n",
       "      <th>Order ID</th>\n",
       "      <th>Customer Name</th>\n",
       "      <th>Order Date</th>\n",
       "      <th>Product</th>\n",
       "      <th>Quantity</th>\n",
       "      <th>Unit Price</th>\n",
       "      <th>Total Revenue</th>\n",
       "    </tr>\n",
       "  </thead>\n",
       "  <tbody>\n",
       "    <tr>\n",
       "      <th>0</th>\n",
       "      <td>1001</td>\n",
       "      <td>John Doe</td>\n",
       "      <td>01/01/2024</td>\n",
       "      <td>Widget A</td>\n",
       "      <td>10.0</td>\n",
       "      <td>25.0</td>\n",
       "      <td>250.0</td>\n",
       "    </tr>\n",
       "    <tr>\n",
       "      <th>1</th>\n",
       "      <td>1002</td>\n",
       "      <td>Jane Smith</td>\n",
       "      <td>01/02/2024</td>\n",
       "      <td>Widget B</td>\n",
       "      <td>5.0</td>\n",
       "      <td>40.0</td>\n",
       "      <td>200.0</td>\n",
       "    </tr>\n",
       "    <tr>\n",
       "      <th>2</th>\n",
       "      <td>1003</td>\n",
       "      <td>NaN</td>\n",
       "      <td>2024/01/03'</td>\n",
       "      <td>Widget A</td>\n",
       "      <td>NaN</td>\n",
       "      <td>25.0</td>\n",
       "      <td>NaN</td>\n",
       "    </tr>\n",
       "    <tr>\n",
       "      <th>3</th>\n",
       "      <td>1004</td>\n",
       "      <td>Alice Johnson</td>\n",
       "      <td>04/01/2024</td>\n",
       "      <td>Widget C</td>\n",
       "      <td>3.0</td>\n",
       "      <td>NaN</td>\n",
       "      <td>210.0</td>\n",
       "    </tr>\n",
       "    <tr>\n",
       "      <th>4</th>\n",
       "      <td>1005</td>\n",
       "      <td>Bob Brown</td>\n",
       "      <td>2024/01/05'</td>\n",
       "      <td>Widget B</td>\n",
       "      <td>10.0</td>\n",
       "      <td>40.0</td>\n",
       "      <td>400.0</td>\n",
       "    </tr>\n",
       "  </tbody>\n",
       "</table>\n",
       "</div>"
      ],
      "text/plain": [
       "   Order ID  Customer Name   Order Date   Product  Quantity  Unit Price  \\\n",
       "0      1001       John Doe   01/01/2024  Widget A      10.0        25.0   \n",
       "1      1002     Jane Smith   01/02/2024  Widget B       5.0        40.0   \n",
       "2      1003            NaN  2024/01/03'  Widget A       NaN        25.0   \n",
       "3      1004  Alice Johnson   04/01/2024  Widget C       3.0         NaN   \n",
       "4      1005      Bob Brown  2024/01/05'  Widget B      10.0        40.0   \n",
       "\n",
       "   Total Revenue  \n",
       "0          250.0  \n",
       "1          200.0  \n",
       "2            NaN  \n",
       "3          210.0  \n",
       "4          400.0  "
      ]
     },
     "execution_count": 1,
     "metadata": {},
     "output_type": "execute_result"
    }
   ],
   "source": [
    "import pandas as pd\n",
    "df = pd.read_csv(\"Sales.csv\")\n",
    "df.head()"
   ]
  },
  {
   "cell_type": "code",
   "execution_count": 2,
   "id": "6db59e74",
   "metadata": {},
   "outputs": [
    {
     "name": "stdout",
     "output_type": "stream",
     "text": [
      "Order ID         0\n",
      "Customer Name    1\n",
      "Order Date       0\n",
      "Product          0\n",
      "Quantity         1\n",
      "Unit Price       1\n",
      "Total Revenue    1\n",
      "dtype: int64\n"
     ]
    }
   ],
   "source": [
    "import pandas as pd\n",
    "df = pd.read_csv(\"Sales.csv\")\n",
    "print(df.isnull().sum())\n",
    "mask =df.isnull"
   ]
  },
  {
   "cell_type": "code",
   "execution_count": 3,
   "id": "f46d5f64",
   "metadata": {},
   "outputs": [
    {
     "name": "stdout",
     "output_type": "stream",
     "text": [
      "   Order ID Customer Name   Order Date   Product  Quantity  Unit Price  \\\n",
      "0      1001      John Doe   01/01/2024  Widget A      10.0        25.0   \n",
      "1      1002    Jane Smith   01/02/2024  Widget B       5.0        40.0   \n",
      "4      1005     Bob Brown  2024/01/05'  Widget B      10.0        40.0   \n",
      "5      1006      John Doe   06/01/2024  Widget A       4.0        25.0   \n",
      "6      1001      John Doe   01/01/2024  Widget A      10.0        25.0   \n",
      "7      1007    Jane Smith   07/01/2024  Widget C      -6.0        70.0   \n",
      "\n",
      "   Total Revenue  \n",
      "0          250.0  \n",
      "1          200.0  \n",
      "4          400.0  \n",
      "5          100.0  \n",
      "6          250.0  \n",
      "7         -420.0  \n"
     ]
    }
   ],
   "source": [
    "df_clean = df.dropna()\n",
    "print(df_clean)"
   ]
  },
  {
   "cell_type": "code",
   "execution_count": 4,
   "id": "d670a64d",
   "metadata": {},
   "outputs": [
    {
     "name": "stdout",
     "output_type": "stream",
     "text": [
      "Columns: ['Duration', 'Date', 'Pulse', 'Maxpulse', 'Calories']\n",
      "\n",
      "Missing values per column:\n",
      "Duration    0\n",
      "Date        2\n",
      "Pulse       1\n",
      "Maxpulse    2\n",
      "Calories    4\n",
      "dtype: int64\n",
      "\n",
      "Cleaned Data Sample:\n",
      "    Duration       Date  Pulse  Maxpulse  Calories\n",
      "0         60 2023-10-01  110.0     130.0     409.1\n",
      "1         60 2023-10-02  117.0     145.0     479.0\n",
      "2         60 2023-10-03  103.0     135.0     340.3\n",
      "3         45 2023-10-04  109.0     175.0     282.4\n",
      "4         45 2023-10-05  117.0     150.0     405.1\n",
      "5         60 2023-10-06  103.0     125.0     300.0\n",
      "6         60 2023-10-07  110.0     135.0     374.0\n",
      "7        400 2023-10-08  114.0     133.0       NaN\n",
      "8         60 2023-10-09  112.0     126.0     193.8\n",
      "9         30 2023-10-10  102.0     147.0     234.8\n",
      "10        60 2023-10-11  100.0     129.0     375.3\n",
      "11        60 2023-10-12  109.0     131.0     345.6\n",
      "12        60 2023-10-13  103.0     136.0     239.2\n",
      "13        60 2023-10-15  120.0       NaN     240.8\n",
      "14        60 2023-10-15  120.0     100.0     240.8\n",
      "15        60 2023-10-16    NaN     101.0     243.8\n",
      "16        60 2023-10-17  127.0     102.0     380.2\n",
      "17        45 2023-10-18  142.0     103.0     241.4\n",
      "18        60 2023-10-19  151.0     104.0       NaN\n",
      "19        60 2023-10-20  162.0     105.0     300.9\n",
      "20        60 2023-10-21  100.0     106.0     280.0\n",
      "21        60 2023-10-22  103.0     107.0       NaN\n",
      "22        60        NaT  130.0     108.0     230.8\n",
      "23        60 2023-10-24  134.0       NaN     239.7\n",
      "24        60 2023-10-25  132.0     110.0     236.9\n",
      "25        60 2023-10-26  135.0     118.0     278.8\n",
      "26        60 2023-10-27  137.0     119.0     212.9\n",
      "27        60 2023-10-28  138.0     121.0     345.9\n",
      "28        60 2023-10-29  139.0     122.0     345.2\n",
      "29        60        NaT   92.0     125.0     380.5\n",
      "30        60 2023-10-31   94.0     126.0       NaN\n"
     ]
    }
   ],
   "source": [
    "import pandas as pd\n",
    "from dateutil import parser\n",
    "\n",
    "df = pd.read_csv(\"Mine.csv\")\n",
    "df.columns = df.columns.str.strip() \n",
    "\n",
    "print(\"Columns:\", df.columns.tolist())\n",
    "\n",
    "\n",
    "def clean_date(date_str):\n",
    "    try:\n",
    "        if pd.isna(date_str):\n",
    "            return pd.NaT\n",
    "        date_str = str(date_str).strip(\"'\") \n",
    "        return parser.parse(date_str, dayfirst=False, yearfirst=True)\n",
    "    except Exception:\n",
    "        return pd.NaT\n",
    "\n",
    "df['Date'] = df['Date'].apply(clean_date)\n",
    "\n",
    "print(\"\\nMissing values per column:\")\n",
    "print(df.isnull().sum())\n",
    "\n",
    "\n",
    "print(\"\\nCleaned Data Sample:\")\n",
    "print(df.head(100))"
   ]
  },
  {
   "cell_type": "code",
   "execution_count": 5,
   "id": "8196aa57",
   "metadata": {},
   "outputs": [
    {
     "name": "stdout",
     "output_type": "stream",
     "text": [
      "Duplicated Values\n",
      "   Order ID Customer Name  Order Date   Product  Quantity  Unit Price  \\\n",
      "6      1001      John Doe  01/01/2024  Widget A      10.0        25.0   \n",
      "\n",
      "   Total Revenue  \n",
      "6          250.0  \n",
      "\n",
      "\n",
      "   Order ID  Customer Name   Order Date   Product  Quantity  Unit Price  \\\n",
      "0      1001       John Doe   01/01/2024  Widget A      10.0        25.0   \n",
      "1      1002     Jane Smith   01/02/2024  Widget B       5.0        40.0   \n",
      "2      1003            NaN  2024/01/03'  Widget A       NaN        25.0   \n",
      "3      1004  Alice Johnson   04/01/2024  Widget C       3.0         NaN   \n",
      "4      1005      Bob Brown  2024/01/05'  Widget B      10.0        40.0   \n",
      "5      1006       John Doe   06/01/2024  Widget A       4.0        25.0   \n",
      "7      1007     Jane Smith   07/01/2024  Widget C      -6.0        70.0   \n",
      "\n",
      "   Total Revenue  \n",
      "0          250.0  \n",
      "1          200.0  \n",
      "2            NaN  \n",
      "3          210.0  \n",
      "4          400.0  \n",
      "5          100.0  \n",
      "7         -420.0  \n"
     ]
    }
   ],
   "source": [
    "dd = pd.read_csv(\"Sales.csv\")\n",
    "duplicates = dd[dd.duplicated()]\n",
    "print(\"Duplicated Values\")\n",
    "print(duplicates)\n",
    "print(\"\\n\")\n",
    "withoutduplicates = dd.drop_duplicates(keep=\"first\")\n",
    "print(withoutduplicates)"
   ]
  },
  {
   "cell_type": "code",
   "execution_count": 6,
   "id": "38f6dda2",
   "metadata": {},
   "outputs": [
    {
     "name": "stdout",
     "output_type": "stream",
     "text": [
      "    Duration         Date  Pulse  Maxpulse  Calories\n",
      "0         60  2023/10/01'  110.0     130.0     409.1\n",
      "1         60  2023/10/02'  117.0     145.0     479.0\n",
      "2         60  2023/10/03'  103.0     135.0     340.3\n",
      "3         45  2023/10/04'  109.0     175.0     282.4\n",
      "4         45  2023/10/05'  117.0     150.0     405.1\n",
      "5         60  2023/10/06'  103.0     125.0     300.0\n",
      "6         60  2023/10/07'  110.0     135.0     374.0\n",
      "8         60  2023/10/09'  112.0     126.0     193.8\n",
      "9         30  2023/10/10'  102.0     147.0     234.8\n",
      "10        60  2023/10/11'  100.0     129.0     375.3\n",
      "11        60  2023/10/12'  109.0     131.0     345.6\n",
      "12        60  2023/10/13'  103.0     136.0     239.2\n",
      "14        60  2023/10/15'  120.0     100.0     240.8\n",
      "16        60  2023/10/17'  127.0     102.0     380.2\n",
      "17        45     20231018  142.0     103.0     241.4\n",
      "19        60  2023/10/20'  162.0     105.0     300.9\n",
      "20        60  2023/10/21'  100.0     106.0     280.0\n",
      "24        60  2023/10/25'  132.0     110.0     236.9\n",
      "25        60  2023/10/26'  135.0     118.0     278.8\n",
      "26        60  2023/10/27'  137.0     119.0     212.9\n",
      "27        60  2023/10/28'  138.0     121.0     345.9\n",
      "28        60  2023/10/29'  139.0     122.0     345.2\n"
     ]
    }
   ],
   "source": [
    "df = pd.read_csv('Mine.csv') \n",
    "df = df[(df['Duration'] < 400) & (df['Pulse'] != 500)]\n",
    "df = df.dropna()\n",
    "print(df)"
   ]
  },
  {
   "cell_type": "code",
   "execution_count": 7,
   "id": "6ea0c9e5",
   "metadata": {},
   "outputs": [
    {
     "name": "stdout",
     "output_type": "stream",
     "text": [
      "    Duration         Date  Pulse  Calories\n",
      "0         60  2023/10/01'  110.0     409.1\n",
      "1         60  2023/10/02'  117.0     479.0\n",
      "2         60  2023/10/03'  103.0     340.3\n",
      "3         45  2023/10/04'  109.0     282.4\n",
      "4         45  2023/10/05'  117.0     405.1\n",
      "5         60  2023/10/06'  103.0     300.0\n",
      "6         60  2023/10/07'  110.0     374.0\n",
      "8         60  2023/10/09'  112.0     193.8\n",
      "9         30  2023/10/10'  102.0     234.8\n",
      "10        60  2023/10/11'  100.0     375.3\n",
      "11        60  2023/10/12'  109.0     345.6\n",
      "12        60  2023/10/13'  103.0     239.2\n",
      "14        60  2023/10/15'  120.0     240.8\n",
      "16        60  2023/10/17'  127.0     380.2\n",
      "17        45     20231018  142.0     241.4\n",
      "19        60  2023/10/20'  162.0     300.9\n",
      "20        60  2023/10/21'  100.0     280.0\n",
      "24        60  2023/10/25'  132.0     236.9\n",
      "25        60  2023/10/26'  135.0     278.8\n",
      "26        60  2023/10/27'  137.0     212.9\n",
      "27        60  2023/10/28'  138.0     345.9\n",
      "28        60  2023/10/29'  139.0     345.2\n"
     ]
    }
   ],
   "source": [
    "df = df.drop(columns=[\"Maxpulse\"])\n",
    "print(df)"
   ]
  }
 ],
 "metadata": {
  "kernelspec": {
   "display_name": "base",
   "language": "python",
   "name": "python3"
  },
  "language_info": {
   "codemirror_mode": {
    "name": "ipython",
    "version": 3
   },
   "file_extension": ".py",
   "mimetype": "text/x-python",
   "name": "python",
   "nbconvert_exporter": "python",
   "pygments_lexer": "ipython3",
   "version": "3.12.7"
  }
 },
 "nbformat": 4,
 "nbformat_minor": 5
}
